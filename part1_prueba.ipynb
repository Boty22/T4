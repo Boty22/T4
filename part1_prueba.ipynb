{
 "cells": [
  {
   "cell_type": "code",
   "execution_count": 1,
   "metadata": {},
   "outputs": [
    {
     "name": "stdout",
     "output_type": "stream",
     "text": [
      "data\\nltcs.test.data\n"
     ]
    }
   ],
   "source": [
    "import numpy as np\n",
    "\n",
    "directory = 'data'\n",
    "\n",
    "nltcs = ['nltcs.ts.data','nltcs.test.data','nltcs.valid.data']\n",
    "msnbc = ['msnbc.ts.data','msnbc.test.data','msnbc.valid.data']\n",
    "kdd = ['kdd.ts.data','kdd.test.data','kdd.valid.data']\n",
    "plants = ['plants.ts.data','plants.test.data','plants.valid.data']\n",
    "baudio = ['baudio.ts.data','baudio.test.data','baudio.valid.data']\n",
    "jester = ['jester.ts.data','jester.test.data','jester.valid.data']\n",
    "bnetflix = ['bnetflix.ts.data','bnetflix.test.data','bnetflix.valid.data']\n",
    "accidents  = ['accidents.ts.data','accidents.test.data','accidents.valid.data']\n",
    "r52 = ['r52.ts.data','r52.test.data','r52.valid.data']\n",
    "dna = ['dna.ts.data','dna.test.data','dna.valid.data']\n",
    "\n",
    "#Select a number 1-10\n",
    "\n",
    "options = {1:nltcs, 2:msnbc, 3:kdd, 4:plants, 5:baudio, 6:jester, 7:bnetflix, 8:accidents, 9:r52, 10: dna}\n",
    "\n",
    "\n"
   ]
  },
  {
   "cell_type": "code",
   "execution_count": 13,
   "metadata": {},
   "outputs": [
    {
     "name": "stdout",
     "output_type": "stream",
     "text": [
      "data\\dna.test.data\n",
      "For option  10  the Log10 Likehood is: \n",
      "-61268.6820096\n"
     ]
    }
   ],
   "source": [
    "option =  10\n",
    "selected_dataset = options[option]\n",
    "training_filename = directory + '\\\\' +selected_dataset[0]\n",
    "testing_filename = directory +  '\\\\' +selected_dataset[1]\n",
    "validation_filename = directory + '\\\\' + selected_dataset[2]\n",
    "\n",
    "print(testing_filename)\n",
    "training_data = np.loadtxt(training_filename , delimiter = ',')\n",
    "testing_data = np.loadtxt(testing_filename , delimiter = ',')\n",
    "validation_data = np.loadtxt(validation_filename , delimiter = ',')\n",
    "\n",
    "#Getting the parameters of the data \n",
    "\n",
    "#the number of training examples:\n",
    "m = training_data.shape[0]\n",
    "\n",
    "#the number of variables in the Bayes Net\n",
    "n = training_data.shape[1]\n",
    "\n",
    "#the parameters theta are:\n",
    "theta_1 = (training_data.sum(axis = 0)+1)/(m+2)\n",
    "log_theta_1 = np.log10(theta_1)\n",
    "log_theta_0 = np.log10(1- theta_1)\n",
    "\n",
    "#Estimation LogLikehood of the testing set:\n",
    "\n",
    "counting_1 = testing_data.sum(axis = 0)\n",
    "counting_0 = m - counting_1\n",
    "log_likehood = np.multiply(log_theta_1,counting_1).sum()+np.multiply(log_theta_0,counting_0).sum()\n",
    "print('For option ', option,' the Log10 Likehood is: ')\n",
    "print(log_likehood)"
   ]
  },
  {
   "cell_type": "code",
   "execution_count": null,
   "metadata": {
    "collapsed": true
   },
   "outputs": [],
   "source": []
  }
 ],
 "metadata": {
  "kernelspec": {
   "display_name": "Python 3",
   "language": "python",
   "name": "python3"
  },
  "language_info": {
   "codemirror_mode": {
    "name": "ipython",
    "version": 3
   },
   "file_extension": ".py",
   "mimetype": "text/x-python",
   "name": "python",
   "nbconvert_exporter": "python",
   "pygments_lexer": "ipython3",
   "version": "3.6.3"
  }
 },
 "nbformat": 4,
 "nbformat_minor": 2
}
