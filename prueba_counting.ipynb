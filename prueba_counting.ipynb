{
 "cells": [
  {
   "cell_type": "code",
   "execution_count": 83,
   "metadata": {},
   "outputs": [
    {
     "data": {
      "text/plain": [
       "array([[0., 1., 2., 3.],\n",
       "       [1., 0., 4., 5.],\n",
       "       [2., 4., 0., 6.],\n",
       "       [3., 5., 6., 0.]])"
      ]
     },
     "execution_count": 83,
     "metadata": {},
     "output_type": "execute_result"
    }
   ],
   "source": [
    "import numpy as np\n",
    "A = np.array([[1,1,0,0],[1,0,1,0],[1,1,0,0],[1,1,1,1],[0,0,0,0],[1,0,1,1],[0,0,1,1]],dtype=np.bool)\n",
    "#m is the number of training examples (rows in A)\n",
    "m = np.shape(A)[0]\n",
    "#n is the number of variables (columns in A)\n",
    "n = np.shape(A)[1]\n",
    "#initialize the mutual information MI, a nxn square matrix with zeros\n",
    "MI = np.zeros((n, n))\n",
    "#get the indexes of the triangular matrix with 1 offset\n",
    "index_of_tri = np.triu_indices(n,1)\n",
    "#put what you want in an array and introduced those values in the index of the matrix\n",
    "MI[index_of_tri] = [1,2,3,4,5,6]\n",
    "#add that triangle matrix to it own transpose, the you have the symetric matrix\n",
    "MI = MI+MI.T\n",
    "MI"
   ]
  },
  {
   "cell_type": "code",
   "execution_count": 84,
   "metadata": {},
   "outputs": [
    {
     "data": {
      "text/plain": [
       "array([ True, False,  True,  True, False, False, False])"
      ]
     },
     "execution_count": 84,
     "metadata": {},
     "output_type": "execute_result"
    }
   ],
   "source": [
    "np.logical_and(A[:,0],A[:,1])\n"
   ]
  },
  {
   "cell_type": "code",
   "execution_count": 85,
   "metadata": {},
   "outputs": [
    {
     "data": {
      "text/plain": [
       "4.0"
      ]
     },
     "execution_count": 85,
     "metadata": {},
     "output_type": "execute_result"
    }
   ],
   "source": [
    "np.logical_and(np.logical_not(A[:,0]),A[:,1])\n",
    "np.log10(10000)"
   ]
  },
  {
   "cell_type": "code",
   "execution_count": 86,
   "metadata": {},
   "outputs": [],
   "source": [
    "def mutual_info(A, x, u, px, pu):\n",
    "    n = len(A)\n",
    "    p_01 = (np.logical_and(np.logical_not(A[:,x]),A[:,u]).sum()+1)/(n+4)\n",
    "    p_10 = (np.logical_and(A[:,x],np.logical_not(A[:,u])).sum()+1)/(n+4)\n",
    "    p_11 = (np.logical_and(A[:,x],A[:,u]).sum()+1)/(n+4)\n",
    "    p_00 = 1 - p_01 - p_10 - p_11\n",
    "    #print (p_00,p_01,p_10,p_11)\n",
    "    #We now have all the necessary parameters\n",
    "    mi = p_00 * np.log10(p_00/(1-px)/(1-pu))+ \\\n",
    "            p_01 * np.log10(p_01/(1-px)/(pu))+ \\\n",
    "            p_10 * np.log10(p_10/(px)/(1-pu))+ \\\n",
    "            p_11 * np.log10(p_11/(px)/(pu))\n",
    "    return mi"
   ]
  },
  {
   "cell_type": "code",
   "execution_count": 87,
   "metadata": {},
   "outputs": [],
   "source": [
    "theta_1 = (A.sum(axis = 0)+1)/(m+2)\n",
    "a = mutual_info(A,1,2,theta_1[1],theta_1[2])"
   ]
  },
  {
   "cell_type": "code",
   "execution_count": 88,
   "metadata": {},
   "outputs": [
    {
     "name": "stdout",
     "output_type": "stream",
     "text": [
      "0.015772674339962194\n"
     ]
    }
   ],
   "source": [
    "print(a)"
   ]
  },
  {
   "cell_type": "code",
   "execution_count": 89,
   "metadata": {},
   "outputs": [],
   "source": [
    "G_dense = np.array([[0, 2, 1],[2, 0, 0], [1, 0, 0]])\n",
    "G_masked = np.ma.masked_values(G_dense, 0)\n",
    "from scipy.sparse import csr_matrix\n",
    "G_sparse = csr_matrix(G_dense)"
   ]
  },
  {
   "cell_type": "code",
   "execution_count": 90,
   "metadata": {},
   "outputs": [
    {
     "data": {
      "text/plain": [
       "<3x3 sparse matrix of type '<class 'numpy.int32'>'\n",
       "\twith 4 stored elements in Compressed Sparse Row format>"
      ]
     },
     "execution_count": 90,
     "metadata": {},
     "output_type": "execute_result"
    }
   ],
   "source": [
    "G_sparse"
   ]
  },
  {
   "cell_type": "code",
   "execution_count": 91,
   "metadata": {},
   "outputs": [
    {
     "name": "stdout",
     "output_type": "stream",
     "text": [
      "0 1\n",
      "0 2\n",
      "0 3\n",
      "1 2\n",
      "1 3\n",
      "2 3\n"
     ]
    }
   ],
   "source": [
    "for row_index in range(n-1):\n",
    "    for column_index in range(row_index+1,n):\n",
    "        print(row_index,column_index)\n"
   ]
  },
  {
   "cell_type": "code",
   "execution_count": 94,
   "metadata": {},
   "outputs": [
    {
     "data": {
      "text/plain": [
       "array([[0.        , 0.0226654 , 0.00200688, 0.00200688],\n",
       "       [0.        , 0.        , 0.01577267, 0.002357  ],\n",
       "       [0.        , 0.        , 0.        , 0.04984688],\n",
       "       [0.        , 0.        , 0.        , 0.        ]])"
      ]
     },
     "execution_count": 94,
     "metadata": {},
     "output_type": "execute_result"
    }
   ],
   "source": [
    "MI = np.zeros((n, n))\n",
    "#Now we build our complete graph with mutual information \n",
    "mut_info_list = []\n",
    "for row_index in range(n-1):\n",
    "    for column_index in range(row_index+1,n):\n",
    "        mut_info_list.append(mutual_info(A,row_index,column_index,theta_1[row_index],theta_1[column_index]))\n",
    "\n",
    "MI[index_of_tri] = mut_info_list\n",
    "#add that triangle matrix to it own transpose, the you have the symetric matrix\n",
    "#MI = MI+MI.T\n",
    "MI"
   ]
  },
  {
   "cell_type": "code",
   "execution_count": 95,
   "metadata": {},
   "outputs": [
    {
     "name": "stdout",
     "output_type": "stream",
     "text": [
      "[[ 0.         -0.0226654  -0.00200688 -0.00200688]\n",
      " [ 0.          0.         -0.01577267 -0.002357  ]\n",
      " [ 0.          0.          0.         -0.04984688]\n",
      " [ 0.          0.          0.          0.        ]]\n"
     ]
    }
   ],
   "source": [
    "#Maybe is useful to have negative weights\n",
    "#Now we build our complete graph with mutual information \n",
    "mut_info_list = []\n",
    "for row_index in range(n-1):\n",
    "    for column_index in range(row_index+1,n):\n",
    "        mut_info_list.append(-mutual_info(A,row_index,column_index,theta_1[row_index],theta_1[column_index]))\n",
    "\n",
    "MI[index_of_tri] = mut_info_list\n",
    "print(MI)"
   ]
  },
  {
   "cell_type": "code",
   "execution_count": 97,
   "metadata": {},
   "outputs": [],
   "source": [
    "#Then get the min spanig tree\n",
    "from scipy.sparse.csgraph import minimum_spanning_tree\n",
    "Tcsr = minimum_spanning_tree(MI)"
   ]
  },
  {
   "cell_type": "code",
   "execution_count": 99,
   "metadata": {},
   "outputs": [
    {
     "name": "stdout",
     "output_type": "stream",
     "text": [
      "  (0, 1)\t-0.02266540093949237\n",
      "  (1, 2)\t-0.015772674339962194\n",
      "  (2, 3)\t-0.0498468752331349\n"
     ]
    }
   ],
   "source": [
    "print(Tcsr)"
   ]
  },
  {
   "cell_type": "code",
   "execution_count": 100,
   "metadata": {},
   "outputs": [
    {
     "name": "stdout",
     "output_type": "stream",
     "text": [
      "  (0, 1)\t0.02266540093949237\n",
      "  (1, 2)\t0.015772674339962194\n",
      "  (2, 3)\t0.0498468752331349\n"
     ]
    }
   ],
   "source": [
    "print(-Tcsr)"
   ]
  },
  {
   "cell_type": "code",
   "execution_count": 143,
   "metadata": {},
   "outputs": [],
   "source": [
    "from scipy.sparse.csgraph import depth_first_tree\n",
    "DFS_tree = depth_first_tree(-Tcsr, 2, directed=False)"
   ]
  },
  {
   "cell_type": "code",
   "execution_count": 144,
   "metadata": {},
   "outputs": [
    {
     "name": "stdout",
     "output_type": "stream",
     "text": [
      "  (1, 0)\t0.02266540093949237\n",
      "  (2, 1)\t0.015772674339962194\n",
      "  (2, 3)\t0.0498468752331349\n"
     ]
    }
   ],
   "source": [
    "print(DFS_tree)"
   ]
  },
  {
   "cell_type": "code",
   "execution_count": 145,
   "metadata": {},
   "outputs": [
    {
     "data": {
      "text/plain": [
       "array([0, 1, 3])"
      ]
     },
     "execution_count": 145,
     "metadata": {},
     "output_type": "execute_result"
    }
   ],
   "source": [
    "DFS_tree.indices"
   ]
  },
  {
   "cell_type": "code",
   "execution_count": 146,
   "metadata": {},
   "outputs": [
    {
     "data": {
      "text/plain": [
       "array([0.0226654 , 0.01577267, 0.04984688])"
      ]
     },
     "execution_count": 146,
     "metadata": {},
     "output_type": "execute_result"
    }
   ],
   "source": [
    "DFS_tree.data"
   ]
  },
  {
   "cell_type": "code",
   "execution_count": 147,
   "metadata": {},
   "outputs": [
    {
     "data": {
      "text/plain": [
       "array([0, 0, 1, 3, 3])"
      ]
     },
     "execution_count": 147,
     "metadata": {},
     "output_type": "execute_result"
    }
   ],
   "source": [
    "DFS_tree.indptr"
   ]
  },
  {
   "cell_type": "code",
   "execution_count": 148,
   "metadata": {},
   "outputs": [
    {
     "data": {
      "text/plain": [
       "array([[0.        , 0.        , 0.        , 0.        ],\n",
       "       [0.0226654 , 0.        , 0.        , 0.        ],\n",
       "       [0.        , 0.01577267, 0.        , 0.04984688],\n",
       "       [0.        , 0.        , 0.        , 0.        ]])"
      ]
     },
     "execution_count": 148,
     "metadata": {},
     "output_type": "execute_result"
    }
   ],
   "source": [
    "csr_matrix.toarray(DFS_tree)"
   ]
  },
  {
   "cell_type": "markdown",
   "metadata": {},
   "source": [
    "## Now Focus on building the CPTs\n"
   ]
  },
  {
   "cell_type": "code",
   "execution_count": 159,
   "metadata": {},
   "outputs": [],
   "source": [
    "a =DFS_tree.todok().items()"
   ]
  },
  {
   "cell_type": "code",
   "execution_count": 160,
   "metadata": {},
   "outputs": [
    {
     "data": {
      "text/plain": [
       "dict_items([((1, 0), 0.02266540093949237), ((2, 1), 0.015772674339962194), ((2, 3), 0.0498468752331349)])"
      ]
     },
     "execution_count": 160,
     "metadata": {},
     "output_type": "execute_result"
    }
   ],
   "source": [
    "a"
   ]
  },
  {
   "cell_type": "code",
   "execution_count": 164,
   "metadata": {},
   "outputs": [
    {
     "name": "stdout",
     "output_type": "stream",
     "text": [
      "  (1, 0)\t0.02266540093949237\n",
      "  (2, 1)\t0.015772674339962194\n",
      "  (2, 3)\t0.0498468752331349\n"
     ]
    }
   ],
   "source": [
    "print(DFS_tree)"
   ]
  },
  {
   "cell_type": "code",
   "execution_count": 166,
   "metadata": {},
   "outputs": [
    {
     "name": "stdout",
     "output_type": "stream",
     "text": [
      "1 0\n",
      "2 1\n",
      "2 3\n"
     ]
    }
   ],
   "source": [
    "#Las dependecias que quiero son las siguientes\n",
    "for arrow in a:\n",
    "    print (arrow[0][0],arrow[0][1])"
   ]
  },
  {
   "cell_type": "code",
   "execution_count": 172,
   "metadata": {},
   "outputs": [],
   "source": [
    "#Se podria armar un diccionario con los valores de con lista que contengas p_00 P_01....\n",
    "#El parametro que se debe hallar es given the tuple ofvariables (a,b) in the DFStree\n",
    "#We need P(b|a) stores in for the cobinations ab 00 01 10 y 11 which add to 1\n",
    "#Notice that is convenient to add firs the 11\n",
    "BN = {}\n",
    "p_01 = (np.logical_and(np.logical_not(A[:,arrow[0][0]]),A[:,arrow[0][1]]).sum()+1)/(n+4)\n",
    "p_10 = (np.logical_and(A[:,arrow[0][0]], np.logical_not(A[:,arrow[0][1]])).sum()+1)/(n+4)\n",
    "p_11 = (np.logical_and(A[:,arrow[0][0]], A[:,arrow[0][1]]).sum()+1)/(n+4)\n",
    "p_00 = 1 - p_01 - p_10 - p_11\n",
    "BN[arrow[0]] = np.array([p_00,p_11,p_10, p_01])\n"
   ]
  },
  {
   "cell_type": "code",
   "execution_count": 173,
   "metadata": {},
   "outputs": [
    {
     "name": "stdout",
     "output_type": "stream",
     "text": [
      "{(2, 3): array([0.125, 0.5  , 0.25 , 0.125])}\n"
     ]
    }
   ],
   "source": [
    "print(BN)"
   ]
  },
  {
   "cell_type": "code",
   "execution_count": null,
   "metadata": {},
   "outputs": [],
   "source": []
  }
 ],
 "metadata": {
  "kernelspec": {
   "display_name": "Python 3",
   "language": "python",
   "name": "python3"
  },
  "language_info": {
   "codemirror_mode": {
    "name": "ipython",
    "version": 3
   },
   "file_extension": ".py",
   "mimetype": "text/x-python",
   "name": "python",
   "nbconvert_exporter": "python",
   "pygments_lexer": "ipython3",
   "version": "3.6.4"
  }
 },
 "nbformat": 4,
 "nbformat_minor": 2
}
